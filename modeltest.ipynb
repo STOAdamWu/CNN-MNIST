{
 "cells": [
  {
   "cell_type": "markdown",
   "metadata": {},
   "source": [
    "# This is a test for model performance before implement with pure numpy code"
   ]
  },
  {
   "cell_type": "markdown",
   "metadata": {},
   "source": [
    "Some basic import and dataset download here"
   ]
  },
  {
   "cell_type": "code",
   "execution_count": 7,
   "metadata": {},
   "outputs": [
    {
     "name": "stdout",
     "output_type": "stream",
     "text": [
      "The autoreload extension is already loaded. To reload it, use:\n",
      "  %reload_ext autoreload\n"
     ]
    }
   ],
   "source": [
    "import torch\n",
    "import torch.nn as nn \n",
    "import torch.nn.functional as F \n",
    "import matplotlib.pyplot as plt \n",
    "import torchvision \n",
    "from torchvision import transforms, datasets\n",
    "\n",
    "train = datasets.MNIST('', train=True, download=True, transform=transforms.Compose([ transforms.ToTensor() ]))\n",
    "\n",
    "test = datasets.MNIST('', train=False, download=True, transform=transforms.Compose([ transforms.ToTensor() ]))\n",
    "\n",
    "%matplotlib inline\n",
    "\n",
    "%load_ext autoreload\n",
    "%autoreload 2\n",
    "\n",
    "#plt.imshow(train[0][0].view(28,28), cmap= 'gray')\n",
    "\n",
    "trainset = torch.utils.data.DataLoader(train, batch_size=60, shuffle=True)\n",
    "testset = torch.utils.data.DataLoader(test, batch_size=60, shuffle=False)"
   ]
  },
  {
   "cell_type": "code",
   "execution_count": 20,
   "metadata": {},
   "outputs": [
    {
     "name": "stdout",
     "output_type": "stream",
     "text": [
      "Cuda Enabled\n",
      "(Epcho 1 / 10) Done in time 7.756 s  Train_acc : 98.037%  Validation_acc : 97.870% \n",
      "(Epcho 2 / 10) Done in time 7.647 s  Train_acc : 99.277%  Validation_acc : 98.800% \n",
      "(Epcho 3 / 10) Done in time 7.233 s  Train_acc : 99.095%  Validation_acc : 98.510% \n",
      "(Epcho 4 / 10) Done in time 7.256 s  Train_acc : 99.500%  Validation_acc : 98.630% \n",
      "(Epcho 5 / 10) Done in time 7.205 s  Train_acc : 99.388%  Validation_acc : 98.460% \n",
      "(Epcho 6 / 10) Done in time 7.520 s  Train_acc : 99.528%  Validation_acc : 98.760% \n",
      "(Epcho 7 / 10) Done in time 7.323 s  Train_acc : 99.620%  Validation_acc : 98.750% \n",
      "(Epcho 8 / 10) Done in time 7.205 s  Train_acc : 99.665%  Validation_acc : 98.840% \n",
      "(Epcho 9 / 10) Done in time 7.183 s  Train_acc : 99.650%  Validation_acc : 98.840% \n",
      "(Epcho 10 / 10) Done in time 7.211 s  Train_acc : 99.468%  Validation_acc : 98.690% \n"
     ]
    }
   ],
   "source": [
    "from model import CNN\n",
    "from model import Trainer\n",
    "import torch.optim as optim\n",
    "import copy\n",
    "\n",
    "conv1 = {'oc':16,'ks':3,'pl':2}\n",
    "conv2 = {'oc':16,'ks':3,'pl':2}\n",
    "conv3 = {'oc':16,'ks':3,'pl':1}\n",
    "\n",
    "cnn = CNN([conv1,conv2,conv3],bn = True)\n",
    "trainer = Trainer(cnn)\n",
    "trainer.train(trainset,10,val = testset)\n"
   ]
  },
  {
   "cell_type": "code",
   "execution_count": 19,
   "metadata": {},
   "outputs": [
    {
     "name": "stdout",
     "output_type": "stream",
     "text": [
      "Cuda Enabled\n",
      "(Epcho 1 / 10) Done in time 7.057 s  Train_acc : 97.958%  Validation_acc : 97.800% \n",
      "(Epcho 2 / 10) Done in time 6.461 s  Train_acc : 98.732%  Validation_acc : 98.440% \n",
      "(Epcho 3 / 10) Done in time 6.450 s  Train_acc : 98.812%  Validation_acc : 98.360% \n",
      "(Epcho 4 / 10) Done in time 6.495 s  Train_acc : 99.337%  Validation_acc : 98.860% \n",
      "(Epcho 5 / 10) Done in time 6.434 s  Train_acc : 99.190%  Validation_acc : 98.620% \n",
      "(Epcho 6 / 10) Done in time 6.449 s  Train_acc : 99.663%  Validation_acc : 98.940% \n",
      "(Epcho 7 / 10) Done in time 6.460 s  Train_acc : 99.625%  Validation_acc : 98.980% \n",
      "(Epcho 8 / 10) Done in time 6.443 s  Train_acc : 99.728%  Validation_acc : 98.980% \n",
      "(Epcho 9 / 10) Done in time 6.476 s  Train_acc : 99.448%  Validation_acc : 98.590% \n",
      "(Epcho 10 / 10) Done in time 6.464 s  Train_acc : 99.792%  Validation_acc : 98.870% \n"
     ]
    }
   ],
   "source": [
    "conv1 = {'oc':16,'ks':3,'pl':2}\n",
    "conv2 = {'oc':16,'ks':3,'pl':2}\n",
    "conv3 = {'oc':16,'ks':3,'pl':1}\n",
    "\n",
    "cnn = CNN([conv1,conv2,conv3])\n",
    "trainer = Trainer(cnn)\n",
    "trainer.train(trainset,10,val = testset)"
   ]
  },
  {
   "cell_type": "code",
   "execution_count": null,
   "metadata": {},
   "outputs": [],
   "source": []
  }
 ],
 "metadata": {
  "kernelspec": {
   "display_name": "Python 3",
   "language": "python",
   "name": "python3"
  },
  "language_info": {
   "codemirror_mode": {
    "name": "ipython",
    "version": 3
   },
   "file_extension": ".py",
   "mimetype": "text/x-python",
   "name": "python",
   "nbconvert_exporter": "python",
   "pygments_lexer": "ipython3",
   "version": "3.8.3"
  }
 },
 "nbformat": 4,
 "nbformat_minor": 4
}
