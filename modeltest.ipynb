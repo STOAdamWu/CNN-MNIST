{
 "cells": [
  {
   "cell_type": "markdown",
   "metadata": {},
   "source": [
    "# This is a test for model performance before implement with pure numpy code"
   ]
  },
  {
   "cell_type": "markdown",
   "metadata": {},
   "source": [
    "Some basic import and dataset download here"
   ]
  },
  {
   "cell_type": "code",
   "execution_count": null,
   "metadata": {},
   "outputs": [],
   "source": [
    "import torch\n",
    "import torch.nn as nn \n",
    "import torch.nn.functional as F \n",
    "import matplotlib.pyplot as plt \n",
    "import torchvision \n",
    "from torchvision import transforms, datasets\n",
    "\n",
    "train = datasets.MNIST('', train=True, download=True, transform=transforms.Compose([ transforms.ToTensor() ]))\n",
    "\n",
    "test = datasets.MNIST('', train=False, download=True, transform=transforms.Compose([ transforms.ToTensor() ]))\n",
    "\n",
    "%matplotlib inline\n",
    "\n",
    "%load_ext autoreload\n",
    "%autoreload 2\n",
    "\n",
    "#plt.imshow(train[0][0].view(28,28), cmap= 'gray')\n",
    "\n",
    "trainset = torch.utils.data.DataLoader(train, batch_size=60, shuffle=True)\n",
    "testset = torch.utils.data.DataLoader(test, batch_size=60, shuffle=False)"
   ]
  },
  {
   "cell_type": "code",
   "execution_count": null,
   "metadata": {},
   "outputs": [],
   "source": [
    "from model import CNN\n",
    "from model import Trainer\n",
    "import torch.optim as optim\n",
    "import copy\n",
    "\n",
    "conv1 = {'oc':16,'ks':3,'pl':2}\n",
    "conv2 = {'oc':16,'ks':3,'pl':2}\n",
    "conv3 = {'oc':16,'ks':3,'pl':1}\n",
    "\n",
    "cnn = CNN([conv1,conv2,conv3],bn = True)\n",
    "print(cnn)\n",
    "trainer = Trainer(cnn)\n",
    "trainer.train(trainset,1)\n",
    "trainer.test(testset)\n"
   ]
  },
  {
   "cell_type": "code",
   "execution_count": null,
   "metadata": {},
   "outputs": [],
   "source": []
  }
 ],
 "metadata": {
  "kernelspec": {
   "display_name": "Python 3",
   "language": "python",
   "name": "python3"
  },
  "language_info": {
   "codemirror_mode": {
    "name": "ipython",
    "version": 3
   },
   "file_extension": ".py",
   "mimetype": "text/x-python",
   "name": "python",
   "nbconvert_exporter": "python",
   "pygments_lexer": "ipython3",
   "version": "3.8.3"
  }
 },
 "nbformat": 4,
 "nbformat_minor": 4
}
